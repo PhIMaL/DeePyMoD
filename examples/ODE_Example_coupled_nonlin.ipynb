{
 "cells": [
  {
   "cell_type": "markdown",
   "metadata": {},
   "source": [
    "## Example ODE with custom library\n",
    "\n",
    "In this notebook we provide a simple example of the DeepMoD algorithm by applying it on the a non-linear ODE\n",
    "\n",
    "We start by importing the required DeepMoD functions:"
   ]
  },
  {
   "cell_type": "code",
   "execution_count": 1,
   "metadata": {},
   "outputs": [
    {
     "name": "stdout",
     "output_type": "stream",
     "text": [
      "cpu\n"
     ]
    }
   ],
   "source": [
    "# General imports\n",
    "import numpy as np\n",
    "import torch\n",
    "import matplotlib.pylab as plt\n",
    "\n",
    "# DeepMoD functions\n",
    "\n",
    "\n",
    "from deepymod import DeepMoD\n",
    "from deepymod.data import Dataset, get_train_test_loader\n",
    "from deepymod.data.samples import Subsample_random\n",
    "from deepymod.model.func_approx import NN\n",
    "from deepymod.model.constraint import LeastSquares\n",
    "from deepymod.model.sparse_estimators import Threshold, PDEFIND\n",
    "from deepymod.training import train\n",
    "from deepymod.training.sparsity_scheduler import TrainTestPeriodic\n",
    "from scipy.io import loadmat\n",
    "\n",
    "\n",
    "import torch\n",
    "from torch.autograd import grad\n",
    "from itertools import combinations\n",
    "from functools import reduce\n",
    "from typing import Tuple\n",
    "from deepymod.utils.types import TensorList\n",
    "from deepymod import Library\n",
    "\n",
    "from scipy.integrate import odeint\n",
    "\n",
    "# Settings for reproducibility\n",
    "np.random.seed(40)\n",
    "torch.manual_seed(0)\n",
    "\n",
    "# Configuring GPU or CPU\n",
    "if False: #torch.cuda.is_available():\n",
    "    device = \"cuda\"\n",
    "else:\n",
    "    device = \"cpu\"\n",
    "print(device)"
   ]
  },
  {
   "cell_type": "markdown",
   "metadata": {},
   "source": [
    "# Preparing the dataset\n",
    "Firstly we prepare the dataset. The set of ODEs we consider here are\n",
    "$d[y, z]/dt = [z, -z+ 5 \\sin y]$"
   ]
  },
  {
   "cell_type": "code",
   "execution_count": 2,
   "metadata": {},
   "outputs": [],
   "source": [
    "def dU_dt_sin(U, t):\n",
    "    return [U[1], -1*U[1] - 5*np.sin(U[0])]"
   ]
  },
  {
   "cell_type": "markdown",
   "metadata": {},
   "source": [
    "We then define a function that solves the ODE and then ensures that \n",
    "both coordinates and data get a shape of n_samples x feature and\n",
    "be return as (coordinate, data)"
   ]
  },
  {
   "cell_type": "code",
   "execution_count": 3,
   "metadata": {},
   "outputs": [],
   "source": [
    "def create_data(U0=np.array([2.5, 0.4]), ts=np.linspace(0, 5, 100)):\n",
    "    Y = torch.from_numpy(odeint(dU_dt_sin, U0, ts)).float()\n",
    "    T = torch.from_numpy(ts.reshape(-1, 1)).float()\n",
    "    return T, Y"
   ]
  },
  {
   "cell_type": "markdown",
   "metadata": {},
   "source": [
    "# Unnormalized and unsampled preview\n",
    "We can now plot the solutions of the equations without sampling\n",
    "and normalization, to show how the dataset can preprocess the data\n",
    "in these common use cases."
   ]
  },
  {
   "cell_type": "code",
   "execution_count": 4,
   "metadata": {},
   "outputs": [
    {
     "name": "stdout",
     "output_type": "stream",
     "text": [
      "Dataset is using device:  cpu\n"
     ]
    }
   ],
   "source": [
    "dataset = Dataset(\n",
    "    create_data,\n",
    "    preprocess_kwargs={\"noise_level\": 0.1},\n",
    "    device=device,\n",
    ")"
   ]
  },
  {
   "cell_type": "code",
   "execution_count": 5,
   "metadata": {},
   "outputs": [
    {
     "data": {
      "image/png": "[encoded data removed]",
      "text/plain": [
       "<Figure size 432x288 with 1 Axes>"
      ]
     },
     "metadata": {
      "needs_background": "light"
     },
     "output_type": "display_data"
    }
   ],
   "source": [
    "fig, ax = plt.subplots()\n",
    "ax.scatter(dataset.get_coords().cpu(), dataset.get_data()[:, 0].cpu(), label=\"u\", s=1)\n",
    "ax.scatter(dataset.get_coords().cpu(), dataset.get_data()[:, 1].cpu(), label=\"v\", s=1)\n",
    "ax.set_xlabel(\"t\")\n",
    "ax.legend()\n",
    "ax.set_title(\"unsampled and unnormalized\")\n",
    "plt.show()"
   ]
  },
  {
   "cell_type": "markdown",
   "metadata": {},
   "source": [
    "# Firstly we can use standardization \n",
    "We can add standardization to the coordinates and data by providing this to the preprocess function:"
   ]
  },
  {
   "cell_type": "code",
   "execution_count": 6,
   "metadata": {},
   "outputs": [],
   "source": [
    "def custom_normalize(feature):\n",
    "        \"\"\"minmax all features by their absolute maximum\n",
    "        Args:\n",
    "            feature (torch.tensor): data to be minmax normalized\n",
    "        Returns:\n",
    "            (torch.tensor): minmaxed data\"\"\"\n",
    "        return (feature/feature.abs().max(axis=0).values)"
   ]
  },
  {
   "cell_type": "markdown",
   "metadata": {},
   "source": [
    "We can now pass the function that loads the data to the DeePyMoD Dataset module, which loads the data, preprocesses it, subsamples it and then sends it to the right device."
   ]
  },
  {
   "cell_type": "code",
   "execution_count": 7,
   "metadata": {},
   "outputs": [
    {
     "name": "stdout",
     "output_type": "stream",
     "text": [
      "Dataset is using device:  cpu\n"
     ]
    }
   ],
   "source": [
    "dataset = Dataset(\n",
    "    create_data,\n",
    "    preprocess_kwargs={\"noise_level\": 0.01,  \n",
    "        \"normalize_coords\": True,\n",
    "        \"normalize_data\": True,},\n",
    "    apply_normalize=custom_normalize,\n",
    "    device=device\n",
    ")"
   ]
  },
  {
   "cell_type": "code",
   "execution_count": 8,
   "metadata": {},
   "outputs": [
    {
     "data": {
      "image/png": "[encoded data removed]",
      "text/plain": [
       "<Figure size 432x288 with 1 Axes>"
      ]
     },
     "metadata": {
      "needs_background": "light"
     },
     "output_type": "display_data"
    }
   ],
   "source": [
    "fig, ax = plt.subplots()\n",
    "ax.scatter(dataset.coords.cpu(), dataset.data[:, 0].cpu(), label=\"u\", s=1)\n",
    "ax.scatter(dataset.coords.cpu(), dataset.data[:, 1].cpu(), label=\"v\", s=1)\n",
    "ax.set_xlabel(\"t\")\n",
    "ax.legend()\n",
    "ax.set_title(\"Unsampled and standardized\")\n",
    "plt.show()"
   ]
  },
  {
   "cell_type": "markdown",
   "metadata": {},
   "source": [
    "We can now do the same, but also randomly subsample the data:"
   ]
  },
  {
   "cell_type": "code",
   "execution_count": 9,
   "metadata": {},
   "outputs": [
    {
     "name": "stdout",
     "output_type": "stream",
     "text": [
      "Dataset is using device:  cpu\n"
     ]
    }
   ],
   "source": [
    "dataset = Dataset(\n",
    "    create_data,\n",
    "    subsampler=Subsample_random,\n",
    "    subsampler_kwargs={\"number_of_samples\": 100},\n",
    "    preprocess_kwargs={\n",
    "        \"noise_level\": 0.01,\n",
    "        \"normalize_coords\": True,\n",
    "        \"normalize_data\": True,\n",
    "    },\n",
    "    apply_normalize=custom_normalize,\n",
    "    device=device\n",
    ")"
   ]
  },
  {
   "cell_type": "code",
   "execution_count": 10,
   "metadata": {},
   "outputs": [
    {
     "data": {
      "image/png": "[encoded data removed]",
      "text/plain": [
       "<Figure size 432x288 with 1 Axes>"
      ]
     },
     "metadata": {
      "needs_background": "light"
     },
     "output_type": "display_data"
    }
   ],
   "source": [
    "fig, ax = plt.subplots()\n",
    "ax.scatter(dataset.coords.cpu(), dataset.data[:, 0].cpu(), label=\"u\", s=1)\n",
    "ax.scatter(dataset.coords.cpu(), dataset.data[:, 1].cpu(), label=\"v\", s=1)\n",
    "ax.set_xlabel(\"t\")\n",
    "ax.legend()\n",
    "ax.set_title(\"sampled and normalized\")\n",
    "plt.show()"
   ]
  },
  {
   "cell_type": "markdown",
   "metadata": {},
   "source": [
    "Now we need to split our data into a train and test dataloaders for PyTorch"
   ]
  },
  {
   "cell_type": "code",
   "execution_count": 11,
   "metadata": {},
   "outputs": [],
   "source": [
    "train_dataloader, test_dataloader = get_train_test_loader(dataset, train_test_split=0.8)"
   ]
  },
  {
   "cell_type": "markdown",
   "metadata": {},
   "source": [
    "# Setup a custom library\n",
    "\n",
    "In this notebook we show how the user can create a custom build library.The library function, $\\theta$, in this case contains $[1,u,v, sin(u)]$ to showcase that non-linear terms can easily be added to the library"
   ]
  },
  {
   "cell_type": "code",
   "execution_count": 12,
   "metadata": {},
   "outputs": [],
   "source": [
    "from torch.autograd import grad\n",
    "from itertools import combinations, product\n",
    "from functools import reduce"
   ]
  },
  {
   "cell_type": "code",
   "execution_count": 13,
   "metadata": {},
   "outputs": [],
   "source": [
    "class Library_nonlinear(Library):\n",
    "    \"\"\"[summary]\n",
    "\n",
    "    Args:\n",
    "        Library ([type]): [description]\n",
    "    \"\"\"\n",
    "\n",
    "    def __init__(self) -> None:\n",
    "        super().__init__()\n",
    "\n",
    "    def library(\n",
    "        self, input: Tuple[torch.Tensor, torch.Tensor]\n",
    "    ) -> Tuple[TensorList, TensorList]:\n",
    "\n",
    "        prediction, data = input\n",
    "        samples = prediction.shape[0]\n",
    "        poly_list = []\n",
    "        deriv_list = []\n",
    "        time_deriv_list = []\n",
    "        # Construct the theta matrix\n",
    "        C = torch.ones_like(prediction[:, 0]).view(samples, -1)\n",
    "        u = prediction[:, 0].view(samples, -1)\n",
    "        v = prediction[:, 1].view(samples, -1)\n",
    "        theta = torch.cat((C, u, v, torch.sin(u)), dim=1)\n",
    "        # Construct a list of time_derivatives\n",
    "        time_deriv_list = []\n",
    "        for output in torch.arange(prediction.shape[1]):\n",
    "            dy = grad(\n",
    "                prediction[:, output],\n",
    "                data,\n",
    "                grad_outputs=torch.ones_like(prediction[:, output]),\n",
    "                create_graph=True,\n",
    "            )[0]\n",
    "            time_deriv = dy[:, 0:1]\n",
    "            time_deriv_list.append(time_deriv)\n",
    "        return time_deriv_list, [theta, theta]"
   ]
  },
  {
   "cell_type": "markdown",
   "metadata": {},
   "source": [
    "## Configuring DeepMoD\n",
    "\n",
    "Configuration of the function approximator: Here the first argument is the number of input and the last argument the number of output layers."
   ]
  },
  {
   "cell_type": "code",
   "execution_count": 14,
   "metadata": {},
   "outputs": [],
   "source": [
    "network = NN(1, [30, 30, 30, 30], 2)"
   ]
  },
  {
   "cell_type": "markdown",
   "metadata": {},
   "source": [
    "Configuration of the library function: We select the custom build library we created earlier"
   ]
  },
  {
   "cell_type": "code",
   "execution_count": 15,
   "metadata": {},
   "outputs": [],
   "source": [
    "library = Library_nonlinear()"
   ]
  },
  {
   "cell_type": "markdown",
   "metadata": {},
   "source": [
    "Configuration of the sparsity estimator and sparsity scheduler used. In this case we use the most basic threshold-based Lasso estimator and a scheduler that asseses the validation loss after a given patience. If that value is smaller than 1e-5, the algorithm is converged."
   ]
  },
  {
   "cell_type": "code",
   "execution_count": 16,
   "metadata": {},
   "outputs": [],
   "source": [
    "estimator = Threshold(0.5)\n",
    "sparsity_scheduler = TrainTestPeriodic(periodicity=50, patience=200, delta=1e-5)"
   ]
  },
  {
   "cell_type": "markdown",
   "metadata": {},
   "source": [
    "Configuration of the sparsity estimator"
   ]
  },
  {
   "cell_type": "code",
   "execution_count": 17,
   "metadata": {},
   "outputs": [],
   "source": [
    "constraint = LeastSquares()"
   ]
  },
  {
   "cell_type": "markdown",
   "metadata": {},
   "source": [
    "Now we instantiate the model and select the optimizer"
   ]
  },
  {
   "cell_type": "code",
   "execution_count": 18,
   "metadata": {},
   "outputs": [],
   "source": [
    "model = DeepMoD(network, library, estimator, constraint)# .to(device)"
   ]
  },
  {
   "cell_type": "markdown",
   "metadata": {},
   "source": [
    "Defining optimizer"
   ]
  },
  {
   "cell_type": "code",
   "execution_count": 19,
   "metadata": {},
   "outputs": [],
   "source": [
    "optimizer = torch.optim.Adam(\n",
    "    model.parameters(), betas=(0.99, 0.99), amsgrad=True, lr=5e-3\n",
    ")"
   ]
  },
  {
   "cell_type": "markdown",
   "metadata": {},
   "source": [
    "## Run DeepMoD\n",
    "\n",
    "We can now run DeepMoD using all the options we have set and the training data. We need to slightly preprocess the input data for the derivatives:"
   ]
  },
  {
   "cell_type": "code",
   "execution_count": 20,
   "metadata": {},
   "outputs": [
    {
     "name": "stdout",
     "output_type": "stream",
     "text": [
      "  8250  MSE: 2.57e-02  Reg: 9.33e-04  L1: 2.57e+00 Algorithm converged. Writing model to disk.\n"
     ]
    }
   ],
   "source": [
    "train(\n",
    "    model,\n",
    "    train_dataloader,\n",
    "    test_dataloader,\n",
    "    optimizer,\n",
    "    sparsity_scheduler,\n",
    "    # log_dir='runs/coupled/',\n",
    "    log_dir=\"/data/deepymod/coupled_new/\",\n",
    "    max_iterations=100000,\n",
    "    delta=1e-3,\n",
    "    patience=100,\n",
    ")"
   ]
  },
  {
   "cell_type": "markdown",
   "metadata": {},
   "source": [
    "Now that DeepMoD has converged, it has found the following coefficients to not be zero: "
   ]
  },
  {
   "cell_type": "code",
   "execution_count": 21,
   "metadata": {},
   "outputs": [
    {
     "data": {
      "text/plain": [
       "[tensor([False, False,  True, False]), tensor([False, False,  True,  True])]"
      ]
     },
     "execution_count": 21,
     "metadata": {},
     "output_type": "execute_result"
    }
   ],
   "source": [
    "model.sparsity_masks"
   ]
  },
  {
   "cell_type": "markdown",
   "metadata": {},
   "source": [
    "And it found the following coefficients."
   ]
  },
  {
   "cell_type": "code",
   "execution_count": 22,
   "metadata": {},
   "outputs": [
    {
     "data": {
      "text/plain": [
       "[array([[0.        ],\n",
       "        [0.        ],\n",
       "        [0.99950427],\n",
       "        [0.        ]], dtype=float32),\n",
       " array([[ 0.        ],\n",
       "        [ 0.        ],\n",
       "        [-0.50306034],\n",
       "        [-1.0668346 ]], dtype=float32)]"
      ]
     },
     "execution_count": 22,
     "metadata": {},
     "output_type": "execute_result"
    }
   ],
   "source": [
    "model.estimator_coeffs()"
   ]
  },
  {
   "cell_type": "code",
   "execution_count": null,
   "metadata": {},
   "outputs": [],
   "source": []
  }
 ],
 "metadata": {
  "anaconda-cloud": {},
  "kernelspec": {
   "display_name": "Python [conda env:DeePyMoD.new_dataset_API]",
   "language": "python",
   "name": "conda-env-DeePyMoD.new_dataset_API-py"
  },
  "language_info": {
   "codemirror_mode": {
    "name": "ipython",
    "version": 3
   },
   "file_extension": ".py",
   "mimetype": "text/x-python",
   "name": "python",
   "nbconvert_exporter": "python",
   "pygments_lexer": "ipython3",
   "version": "3.8.8"
  }
 },
 "nbformat": 4,
 "nbformat_minor": 4
}
