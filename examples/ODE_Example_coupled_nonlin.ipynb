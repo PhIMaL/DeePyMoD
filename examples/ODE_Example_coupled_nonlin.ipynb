{
 "cells": [
  {
   "cell_type": "markdown",
   "metadata": {},
   "source": [
    "## Example ODE with custom library\n",
    "\n",
    "In this notebook we provide a simple example of the DeepMoD algorithm by applying it on the a non-linear ODE\n",
    "\n",
    "We start by importing the required DeepMoD functions:"
   ]
  },
  {
   "cell_type": "code",
   "execution_count": 1,
   "metadata": {},
   "outputs": [
    {
     "name": "stdout",
     "output_type": "stream",
     "text": [
      "cpu\n"
     ]
    }
   ],
   "source": [
    "# General imports\n",
    "import numpy as np\n",
    "import torch\n",
    "import matplotlib.pylab as plt\n",
    "\n",
    "# DeepMoD functions\n",
    "\n",
    "\n",
    "from deepymod import DeepMoD\n",
    "from deepymod.data import Dataset, get_train_test_loader\n",
    "from deepymod.data.samples import Subsample_random\n",
    "from deepymod.model.func_approx import NN\n",
    "from deepymod.model.constraint import LeastSquares\n",
    "from deepymod.model.sparse_estimators import Threshold, PDEFIND\n",
    "from deepymod.training import train\n",
    "from deepymod.training.sparsity_scheduler import TrainTestPeriodic\n",
    "from scipy.io import loadmat\n",
    "\n",
    "\n",
    "import torch\n",
    "from torch.autograd import grad\n",
    "from itertools import combinations\n",
    "from functools import reduce\n",
    "from typing import Tuple\n",
    "from deepymod.utils.types import TensorList\n",
    "from deepymod import Library\n",
    "\n",
    "from scipy.integrate import odeint\n",
    "\n",
    "# Settings for reproducibility\n",
    "np.random.seed(40)\n",
    "torch.manual_seed(0)\n",
    "\n",
    "# Configuring GPU or CPU\n",
    "if False: #torch.cuda.is_available():\n",
    "    device = \"cuda\"\n",
    "else:\n",
    "    device = \"cpu\"\n",
    "print(device)"
   ]
  },
  {
   "cell_type": "markdown",
   "metadata": {},
   "source": [
    "We check where the package is located"
   ]
  },
  {
   "cell_type": "code",
   "execution_count": 28,
   "metadata": {},
   "outputs": [
    {
     "data": {
      "text/plain": [
       "<module 'deepymod' from '/net/nfs/ssd1/gmiloshe/DeePyMoD/src/deepymod/__init__.py'>"
      ]
     },
     "execution_count": 28,
     "metadata": {},
     "output_type": "execute_result"
    }
   ],
   "source": [
    "import deepymod as dpm\n",
    "dpm"
   ]
  },
  {
   "cell_type": "markdown",
   "metadata": {},
   "source": [
    "# Preparing the dataset\n",
    "Firstly we prepare the dataset. The set of ODEs we consider here are\n",
    "$d[y, z]/dt = [z, -z+ 5 \\sin y]$"
   ]
  },
  {
   "cell_type": "code",
   "execution_count": 2,
   "metadata": {},
   "outputs": [],
   "source": [
    "def dU_dt_sin(U, t):\n",
    "    \"\"\"\n",
    "    returns the right hand side of the differential equation\"\"\"\n",
    "    return [U[1], -1*U[1] + 5*np.sin(U[0])]"
   ]
  },
  {
   "cell_type": "markdown",
   "metadata": {},
   "source": [
    "We then define a function that solves the ODE and then ensures that \n",
    "both coordinates and data get a shape of n_samples x feature and\n",
    "be returned as (coordinate, data)"
   ]
  },
  {
   "cell_type": "code",
   "execution_count": 3,
   "metadata": {},
   "outputs": [],
   "source": [
    "def create_data(U0=np.array([.75, 1]), ts=np.linspace(0, 5, 100)):\n",
    "    \"\"\"\n",
    "    Creates data which is the solution of the simple ODE system example.\n",
    "    \n",
    "    Args: \n",
    "        U0: Initial condition\n",
    "        ts: Time points to evaluate the ODE at.\n",
    "    \"\"\"\n",
    "    Y = torch.from_numpy(odeint(dU_dt_sin, U0, ts)).float()\n",
    "    T = torch.from_numpy(ts.reshape(-1, 1)).float()\n",
    "    return T, Y"
   ]
  },
  {
   "cell_type": "markdown",
   "metadata": {},
   "source": [
    "# Unnormalized and unsampled preview\n",
    "We can now plot the solutions of the equations without sampling\n",
    "and normalization, to show how the dataset can preprocess the data\n",
    "in these common use cases."
   ]
  },
  {
   "cell_type": "code",
   "execution_count": 4,
   "metadata": {},
   "outputs": [
    {
     "name": "stdout",
     "output_type": "stream",
     "text": [
      "Dataset is using device:  cpu\n",
      "Dataset: <deepymod.data.base.Dataset object at 0x7f4f3ecf4f40>, Dataset[0]: (tensor([3.9899]), tensor([3.1086, 0.6330])), Dataset shape: torch.Size([100, 2])\n"
     ]
    }
   ],
   "source": [
    "# see deepymod.data.base.Dataset for definition of `Dataset` class.\n",
    "dataset = Dataset(\n",
    "    create_data, #load_function -> see documentation\n",
    "    preprocess_kwargs={\"noise_level\": 0.1},\n",
    "    device=device,\n",
    ")\n",
    "\n",
    "print(f\"Dataset: {dataset}, Dataset[0]: {dataset[0]}, Dataset shape: {dataset.get_data().shape}\")\n"
   ]
  },
  {
   "cell_type": "code",
   "execution_count": 29,
   "metadata": {},
   "outputs": [
    {
     "data": {
      "text/plain": [
       "<module 'torch' from '/net/nfs/ssd1/miniconda3/envs/deepymod_torch/lib/python3.8/site-packages/torch/__init__.py'>"
      ]
     },
     "execution_count": 29,
     "metadata": {},
     "output_type": "execute_result"
    }
   ],
   "source": [
    "torch"
   ]
  },
  {
   "cell_type": "markdown",
   "metadata": {},
   "source": [
    "Plot the solution"
   ]
  },
  {
   "cell_type": "code",
   "execution_count": 5,
   "metadata": {},
   "outputs": [
    {
     "data": {
      "image/png": "[encoded data removed]",
      "text/plain": [
       "<Figure size 640x480 with 1 Axes>"
      ]
     },
     "metadata": {},
     "output_type": "display_data"
    }
   ],
   "source": [
    "fig, ax = plt.subplots()\n",
    "ax.scatter(dataset.get_coords().cpu(), dataset.get_data()[:, 0].cpu(), label=\"u\", s=3)\n",
    "ax.scatter(dataset.get_coords().cpu(), dataset.get_data()[:, 1].cpu(), label=\"v\", s=3)\n",
    "ax.set_xlabel(\"t\")\n",
    "ax.legend()\n",
    "ax.set_title(\"unsampled and unnormalized\")\n",
    "plt.show()"
   ]
  },
  {
   "cell_type": "markdown",
   "metadata": {},
   "source": [
    "# Firstly we can use standardization \n",
    "We can add standardization to the coordinates and data by providing this to the preprocess function:"
   ]
  },
  {
   "cell_type": "code",
   "execution_count": 6,
   "metadata": {},
   "outputs": [],
   "source": [
    "def custom_normalize(feature):\n",
    "        \"\"\"minmax all features by their absolute maximum\n",
    "        Args:\n",
    "            feature (torch.tensor): data to be minmax normalized\n",
    "        Returns:\n",
    "            (torch.tensor): minmaxed data\"\"\"\n",
    "        return (feature/feature.abs().max(axis=0).values)"
   ]
  },
  {
   "cell_type": "markdown",
   "metadata": {},
   "source": [
    "We can now pass the function that loads the data to the DeePyMoD Dataset module, which loads the data, preprocesses it, subsamples it and then sends it to the right device."
   ]
  },
  {
   "cell_type": "code",
   "execution_count": 7,
   "metadata": {},
   "outputs": [
    {
     "name": "stdout",
     "output_type": "stream",
     "text": [
      "Dataset is using device:  cpu\n"
     ]
    }
   ],
   "source": [
    "dataset = Dataset(\n",
    "    create_data,\n",
    "    preprocess_kwargs={\"noise_level\": 0,  \n",
    "        \"normalize_coords\": True,\n",
    "        \"normalize_data\": True,},\n",
    "    apply_normalize=custom_normalize,\n",
    "    device=device\n",
    ")"
   ]
  },
  {
   "cell_type": "code",
   "execution_count": 8,
   "metadata": {},
   "outputs": [
    {
     "data": {
      "image/png": "[encoded data removed]",
      "text/plain": [
       "<Figure size 640x480 with 1 Axes>"
      ]
     },
     "metadata": {},
     "output_type": "display_data"
    }
   ],
   "source": [
    "fig, ax = plt.subplots()\n",
    "ax.scatter(dataset.coords.cpu(), dataset.data[:, 0].cpu(), label=\"u\", s=3)\n",
    "ax.scatter(dataset.coords.cpu(), dataset.data[:, 1].cpu(), label=\"v\", s=3)\n",
    "ax.set_xlabel(\"t\")\n",
    "ax.legend()\n",
    "ax.set_title(\"Unsampled and standardized\")\n",
    "plt.show()"
   ]
  },
  {
   "cell_type": "code",
   "execution_count": 9,
   "metadata": {},
   "outputs": [
    {
     "data": {
      "text/plain": [
       "torch.Size([100, 2])"
      ]
     },
     "execution_count": 9,
     "metadata": {},
     "output_type": "execute_result"
    }
   ],
   "source": [
    "dataset.data.shape"
   ]
  },
  {
   "cell_type": "markdown",
   "metadata": {},
   "source": [
    "We can now do the same, but also randomly subsample the data:"
   ]
  },
  {
   "cell_type": "code",
   "execution_count": 10,
   "metadata": {},
   "outputs": [
    {
     "name": "stdout",
     "output_type": "stream",
     "text": [
      "Dataset is using device:  cpu\n"
     ]
    },
    {
     "data": {
      "text/plain": [
       "torch.Size([100, 2])"
      ]
     },
     "execution_count": 10,
     "metadata": {},
     "output_type": "execute_result"
    }
   ],
   "source": [
    "dataset = Dataset(\n",
    "    create_data,\n",
    "    subsampler=Subsample_random,\n",
    "    subsampler_kwargs={\"number_of_samples\": 100},\n",
    "    preprocess_kwargs={\n",
    "        \"noise_level\": 0.01,\n",
    "        \"normalize_coords\": True,\n",
    "        \"normalize_data\": True,\n",
    "    },\n",
    "    apply_normalize=custom_normalize,\n",
    "    device=device\n",
    ")\n",
    "dataset.data.shape"
   ]
  },
  {
   "cell_type": "code",
   "execution_count": 11,
   "metadata": {},
   "outputs": [
    {
     "data": {
      "image/png": "[encoded data removed]",
      "text/plain": [
       "<Figure size 640x480 with 1 Axes>"
      ]
     },
     "metadata": {},
     "output_type": "display_data"
    }
   ],
   "source": [
    "fig, ax = plt.subplots()\n",
    "ax.scatter(dataset.coords.cpu(), dataset.data[:, 0].cpu(), label=\"u\", s=3)\n",
    "ax.scatter(dataset.coords.cpu(), dataset.data[:, 1].cpu(), label=\"v\", s=3)\n",
    "ax.set_xlabel(\"t\")\n",
    "ax.legend()\n",
    "ax.set_title(\"sampled and normalized\")\n",
    "plt.show()"
   ]
  },
  {
   "cell_type": "markdown",
   "metadata": {},
   "source": [
    "Now we need to split our data into a train and test dataloaders for PyTorch"
   ]
  },
  {
   "cell_type": "code",
   "execution_count": 12,
   "metadata": {},
   "outputs": [],
   "source": [
    " # see deepymod.data.base.get_train_test_loader for definition of `get_train_test_loader` function.\n",
    " # the shuffle is completely random mixing latter and earlier times\n",
    "train_dataloader, test_dataloader = get_train_test_loader(dataset, train_test_split=0.8)"
   ]
  },
  {
   "cell_type": "code",
   "execution_count": 13,
   "metadata": {},
   "outputs": [
    {
     "name": "stdout",
     "output_type": "stream",
     "text": [
      "Batch 0 - Input shape: torch.Size([80, 1]), Target shape: torch.Size([80, 2])\n"
     ]
    }
   ],
   "source": [
    "for batch_idx, (input, target) in enumerate(train_dataloader):\n",
    "    print(f\"Batch {batch_idx} - Input shape: {input.shape}, Target shape: {target.shape}\")\n"
   ]
  },
  {
   "cell_type": "code",
   "execution_count": 14,
   "metadata": {},
   "outputs": [
    {
     "name": "stdout",
     "output_type": "stream",
     "text": [
      "Batch 0 - Input shape: torch.Size([20, 1]), Target shape: torch.Size([20, 2])\n"
     ]
    }
   ],
   "source": [
    "for batch_idx, (input, target) in enumerate(test_dataloader):\n",
    "    print(f\"Batch {batch_idx} - Input shape: {input.shape}, Target shape: {target.shape}\")\n"
   ]
  },
  {
   "cell_type": "markdown",
   "metadata": {},
   "source": [
    "# Setup a custom library\n",
    "\n",
    "In this notebook we show how the user can create a custom build library.The library function, $\\theta$, in this case contains $[1,u,v, sin(u)]$ to showcase that non-linear terms can easily be added to the library"
   ]
  },
  {
   "cell_type": "code",
   "execution_count": 15,
   "metadata": {},
   "outputs": [],
   "source": [
    "from torch.autograd import grad\n",
    "from itertools import combinations, product\n",
    "from functools import reduce"
   ]
  },
  {
   "cell_type": "code",
   "execution_count": 16,
   "metadata": {},
   "outputs": [],
   "source": [
    "class Library_nonlinear(Library):  # see: deepymod.model.deepmod.Library\n",
    "    \"\"\"[summary]\n",
    "\n",
    "    Args:\n",
    "        Library ([type]): [description]\n",
    "    \"\"\"\n",
    "\n",
    "    def __init__(self) -> None:\n",
    "        super().__init__()\n",
    "\n",
    "    def library(\n",
    "        self, input: Tuple[torch.Tensor, torch.Tensor]\n",
    "    ) -> Tuple[TensorList, TensorList]:\n",
    "\n",
    "        prediction, data = input\n",
    "        samples = prediction.shape[0]\n",
    "        poly_list = []\n",
    "        deriv_list = []\n",
    "        time_deriv_list = []\n",
    "        # Construct the theta matrix\n",
    "        C = torch.ones_like(prediction[:, 0]).view(samples, -1) # constant of ones\n",
    "        u = prediction[:, 0].view(samples, -1) # a term proportional to u\n",
    "        v = prediction[:, 1].view(samples, -1) # a term proportional to v\n",
    "        theta = torch.cat((C, u, v, torch.sin(u)), dim=1) # a term porportional to sin(u)\n",
    "        # Construct a list of time_derivatives\n",
    "        time_deriv_list = []\n",
    "        for output in torch.arange(prediction.shape[1]):\n",
    "            dy = grad(\n",
    "                prediction[:, output],\n",
    "                data,\n",
    "                grad_outputs=torch.ones_like(prediction[:, output]),\n",
    "                create_graph=True,\n",
    "            )[0]\n",
    "            time_deriv = dy[:, 0:1]\n",
    "            time_deriv_list.append(time_deriv)\n",
    "        return time_deriv_list, [theta, theta]"
   ]
  },
  {
   "cell_type": "markdown",
   "metadata": {},
   "source": [
    "## Configuring DeepMoD\n",
    "\n",
    "Configuration of the function approximator: Here the first argument is the number of input and the last argument the number of output layers."
   ]
  },
  {
   "cell_type": "code",
   "execution_count": 17,
   "metadata": {},
   "outputs": [],
   "source": [
    "network = NN(1, [30, 30, 30, 30], 2)"
   ]
  },
  {
   "cell_type": "markdown",
   "metadata": {},
   "source": [
    "Configuration of the library function: We select the custom build library we created earlier"
   ]
  },
  {
   "cell_type": "code",
   "execution_count": 18,
   "metadata": {},
   "outputs": [],
   "source": [
    "library = Library_nonlinear()"
   ]
  },
  {
   "cell_type": "markdown",
   "metadata": {},
   "source": [
    "Configuration of the sparsity estimator and sparsity scheduler used. In this case we use the most basic threshold-based Lasso estimator and a scheduler that asseses the validation loss after a given patience. If that value is smaller than 1e-5, the algorithm is converged."
   ]
  },
  {
   "cell_type": "code",
   "execution_count": 19,
   "metadata": {},
   "outputs": [],
   "source": [
    "estimator = Threshold(0.5)\n",
    "sparsity_scheduler = TrainTestPeriodic(periodicity=50, patience=200, delta=1e-5)"
   ]
  },
  {
   "cell_type": "markdown",
   "metadata": {},
   "source": [
    "Configuration of the sparsity estimator"
   ]
  },
  {
   "cell_type": "code",
   "execution_count": 20,
   "metadata": {},
   "outputs": [],
   "source": [
    "constraint = LeastSquares()"
   ]
  },
  {
   "cell_type": "markdown",
   "metadata": {},
   "source": [
    "Now we instantiate the model and select the optimizer"
   ]
  },
  {
   "cell_type": "code",
   "execution_count": 21,
   "metadata": {},
   "outputs": [],
   "source": [
    "model = DeepMoD(network, library, estimator, constraint)# .to(device)"
   ]
  },
  {
   "cell_type": "code",
   "execution_count": 22,
   "metadata": {},
   "outputs": [
    {
     "data": {
      "text/plain": [
       "DeepMoD(\n",
       "  (func_approx): NN(\n",
       "    (network): Sequential(\n",
       "      (0): Linear(in_features=1, out_features=30, bias=True)\n",
       "      (1): Tanh()\n",
       "      (2): Linear(in_features=30, out_features=30, bias=True)\n",
       "      (3): Tanh()\n",
       "      (4): Linear(in_features=30, out_features=30, bias=True)\n",
       "      (5): Tanh()\n",
       "      (6): Linear(in_features=30, out_features=30, bias=True)\n",
       "      (7): Tanh()\n",
       "      (8): Linear(in_features=30, out_features=2, bias=True)\n",
       "    )\n",
       "  )\n",
       "  (library): Library_nonlinear()\n",
       "  (sparse_estimator): Threshold()\n",
       "  (constraint): LeastSquares()\n",
       ")"
      ]
     },
     "execution_count": 22,
     "metadata": {},
     "output_type": "execute_result"
    }
   ],
   "source": [
    "model"
   ]
  },
  {
   "cell_type": "markdown",
   "metadata": {},
   "source": [
    "Defining optimizer"
   ]
  },
  {
   "cell_type": "code",
   "execution_count": 23,
   "metadata": {},
   "outputs": [],
   "source": [
    "optimizer = torch.optim.Adam(\n",
    "    model.parameters(), betas=(0.99, 0.99), amsgrad=True, lr=5e-3\n",
    ")"
   ]
  },
  {
   "cell_type": "markdown",
   "metadata": {},
   "source": [
    "## Run DeepMoD\n",
    "\n",
    "We can now run DeepMoD using all the options we have set and the training data. We need to slightly preprocess the input data for the derivatives:"
   ]
  },
  {
   "cell_type": "code",
   "execution_count": 24,
   "metadata": {},
   "outputs": [
    {
     "name": "stdout",
     "output_type": "stream",
     "text": [
      "  8275  MSE: 1.35e-01  Reg: 2.86e-03  L1: 2.00e+00 Algorithm converged. Writing model to disk.\n",
      "CPU times: user 1min 45s, sys: 3.05 s, total: 1min 48s\n",
      "Wall time: 1min 45s\n"
     ]
    }
   ],
   "source": [
    "%%time\n",
    "train(\n",
    "    model,\n",
    "    train_dataloader,\n",
    "    test_dataloader,\n",
    "    optimizer,\n",
    "    sparsity_scheduler,\n",
    "    # log_dir='runs/coupled/',\n",
    "    log_dir=\"./data/deepymod/coupled_new/\",\n",
    "    max_iterations=100000,\n",
    "    delta=1e-3,\n",
    "    patience=100,\n",
    ")"
   ]
  },
  {
   "cell_type": "markdown",
   "metadata": {},
   "source": [
    "Now that DeepMoD has converged, it has found the following coefficients to not be zero: "
   ]
  },
  {
   "cell_type": "code",
   "execution_count": 25,
   "metadata": {},
   "outputs": [
    {
     "data": {
      "text/plain": [
       "[tensor([False, False,  True, False]), tensor([False, False,  True, False])]"
      ]
     },
     "execution_count": 25,
     "metadata": {},
     "output_type": "execute_result"
    }
   ],
   "source": [
    "model.sparsity_masks"
   ]
  },
  {
   "cell_type": "code",
   "execution_count": 26,
   "metadata": {},
   "outputs": [
    {
     "data": {
      "text/plain": [
       "[array([[0.        ],\n",
       "        [0.        ],\n",
       "        [0.93314254],\n",
       "        [0.        ]], dtype=float32),\n",
       " array([[ 0.       ],\n",
       "        [ 0.       ],\n",
       "        [-0.9918309],\n",
       "        [ 0.       ]], dtype=float32)]"
      ]
     },
     "execution_count": 26,
     "metadata": {},
     "output_type": "execute_result"
    }
   ],
   "source": [
    "model.estimator_coeffs()"
   ]
  },
  {
   "cell_type": "markdown",
   "metadata": {},
   "source": [
    "And it found the following coefficients."
   ]
  },
  {
   "cell_type": "code",
   "execution_count": 27,
   "metadata": {},
   "outputs": [
    {
     "data": {
      "text/plain": [
       "[tensor([[0.0000],\n",
       "         [0.0000],\n",
       "         [1.1281],\n",
       "         [0.0000]], grad_fn=<MaskedScatterBackward0>),\n",
       " tensor([[ 0.0000],\n",
       "         [ 0.0000],\n",
       "         [-3.8314],\n",
       "         [ 0.0000]], grad_fn=<MaskedScatterBackward0>)]"
      ]
     },
     "execution_count": 27,
     "metadata": {},
     "output_type": "execute_result"
    }
   ],
   "source": [
    "model.constraint_coeffs()"
   ]
  },
  {
   "cell_type": "code",
   "execution_count": null,
   "metadata": {},
   "outputs": [],
   "source": []
  }
 ],
 "metadata": {
  "anaconda-cloud": {},
  "kernelspec": {
   "display_name": "deepymod",
   "language": "python",
   "name": "python3"
  },
  "language_info": {
   "codemirror_mode": {
    "name": "ipython",
    "version": 3
   },
   "file_extension": ".py",
   "mimetype": "text/x-python",
   "name": "python",
   "nbconvert_exporter": "python",
   "pygments_lexer": "ipython3",
   "version": "3.8.17"
  }
 },
 "nbformat": 4,
 "nbformat_minor": 4
}
