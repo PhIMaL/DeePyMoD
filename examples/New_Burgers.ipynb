{
 "cells": [
  {
   "cell_type": "code",
   "execution_count": 1,
   "metadata": {},
   "outputs": [
    {
     "name": "stdout",
     "output_type": "stream",
     "text": [
      "cuda\n"
     ]
    }
   ],
   "source": [
    "#!/usr/bin/env python\n",
    "# coding: utf-8\n",
    "\n",
    "import matplotlib.pyplot as plt\n",
    "\n",
    "# General imports\n",
    "import numpy as np\n",
    "import torch\n",
    "\n",
    "# DeePyMoD imports\n",
    "from deepymod import DeepMoD\n",
    "from deepymod.data import Dataset, get_train_test_loader\n",
    "from deepymod.data.samples import Subsample_random\n",
    "from deepymod.data.burgers import burgers_delta\n",
    "from deepymod.model.constraint import LeastSquares\n",
    "from deepymod.model.func_approx import NN\n",
    "from deepymod.model.library import Library1D\n",
    "from deepymod.model.sparse_estimators import Threshold\n",
    "from deepymod.training import train\n",
    "from deepymod.training.sparsity_scheduler import Periodic, TrainTest, TrainTestPeriodic\n",
    "\n",
    "if torch.cuda.is_available():\n",
    "    device = \"cuda\"\n",
    "else:\n",
    "    device = \"cpu\"\n",
    "print(device)\n",
    "\n",
    "# Settings for reproducibility\n",
    "np.random.seed(42)\n",
    "torch.manual_seed(0)\n",
    "torch.backends.cudnn.deterministic = True\n",
    "torch.backends.cudnn.benchmark = False"
   ]
  },
  {
   "cell_type": "code",
   "execution_count": 2,
   "metadata": {},
   "outputs": [],
   "source": [
    "# Making dataset\n",
    "v = 0.1\n",
    "A = 1.0\n",
    "\n",
    "x = torch.linspace(-3, 4, 100)\n",
    "t = torch.linspace(0.5, 5.0, 50)\n",
    "load_kwargs = {\"x\": x, \"t\": t, \"v\": v, \"A\": A}\n",
    "preprocess_kwargs = {\"noise_level\": 0.05}"
   ]
  },
  {
   "cell_type": "code",
   "execution_count": 3,
   "metadata": {},
   "outputs": [
    {
     "name": "stdout",
     "output_type": "stream",
     "text": [
      "torch.Size([100, 50]) torch.Size([100, 50])\n",
      "Dataset is using device:  cuda\n"
     ]
    }
   ],
   "source": [
    "dataset = Dataset(\n",
    "    burgers_delta,\n",
    "    load_kwargs=load_kwargs,\n",
    "    preprocess_kwargs=preprocess_kwargs,\n",
    "    subsampler=Subsample_random,\n",
    "    subsampler_kwargs={\"number_of_samples\": 500},\n",
    "    device=device,\n",
    ")"
   ]
  },
  {
   "cell_type": "code",
   "execution_count": 4,
   "metadata": {},
   "outputs": [],
   "source": [
    "train_dataloader, test_dataloader = get_train_test_loader(\n",
    "    dataset, train_test_split=0.8\n",
    ")"
   ]
  },
  {
   "cell_type": "code",
   "execution_count": 5,
   "metadata": {},
   "outputs": [],
   "source": [
    "network = NN(2, [50, 50, 50,50], 1)\n",
    "library = Library1D(poly_order=2, diff_order=3)  # Library function\n",
    "estimator = Threshold(0.1)  # Sparse estimator\n",
    "constraint = LeastSquares()  # How to constrain\n",
    "model = DeepMoD(network, library, estimator, constraint).to(\n",
    "    device\n",
    ")  # Putting it all in the model"
   ]
  },
  {
   "cell_type": "code",
   "execution_count": 6,
   "metadata": {},
   "outputs": [],
   "source": [
    "sparsity_scheduler = TrainTestPeriodic(periodicity=50, patience=200, delta=1e-5) # in terms of write iterations\n",
    "# sparsity_scheduler = Periodic(initial_iteration=1000, periodicity=25)\n",
    "# sparsity_scheduler = TrainTest(periodicity=50,patience=200, delta=1e-5)"
   ]
  },
  {
   "cell_type": "code",
   "execution_count": 7,
   "metadata": {},
   "outputs": [],
   "source": [
    "optimizer = torch.optim.Adam(\n",
    "    model.parameters(), betas=(0.99, 0.999), amsgrad=True, lr=1e-3\n",
    ")  # Defining optimizer"
   ]
  },
  {
   "cell_type": "code",
   "execution_count": 9,
   "metadata": {},
   "outputs": [
    {
     "name": "stdout",
     "output_type": "stream",
     "text": [
      "  7725  MSE: 1.39e-06  Reg: 2.01e-06  L1: 1.95e+00 Algorithm converged. Writing model to disk.\n",
      "CPU times: user 12min 24s, sys: 35.7 s, total: 13min\n",
      "Wall time: 3min\n"
     ]
    }
   ],
   "source": [
    "%%time\n",
    "train(\n",
    "    model,\n",
    "    train_dataloader,\n",
    "    test_dataloader,\n",
    "    optimizer,\n",
    "    sparsity_scheduler,\n",
    "    exp_ID=\"Test\",\n",
    "    write_iterations=25,\n",
    "    max_iterations=100000,\n",
    "    delta=1e-4,\n",
    "    patience=200,\n",
    ")"
   ]
  },
  {
   "cell_type": "code",
   "execution_count": 10,
   "metadata": {},
   "outputs": [
    {
     "data": {
      "text/plain": [
       "[tensor([False, False,  True, False, False,  True, False, False, False, False,\n",
       "         False, False], device='cuda:0')]"
      ]
     },
     "execution_count": 10,
     "metadata": {},
     "output_type": "execute_result"
    }
   ],
   "source": [
    "model.sparsity_masks"
   ]
  },
  {
   "cell_type": "code",
   "execution_count": 11,
   "metadata": {},
   "outputs": [
    {
     "name": "stdout",
     "output_type": "stream",
     "text": [
      "[array([[ 0.        ],\n",
      "       [ 0.        ],\n",
      "       [ 0.79235226],\n",
      "       [ 0.        ],\n",
      "       [ 0.        ],\n",
      "       [-1.1293496 ],\n",
      "       [ 0.        ],\n",
      "       [ 0.        ],\n",
      "       [ 0.        ],\n",
      "       [ 0.        ],\n",
      "       [ 0.        ],\n",
      "       [ 0.        ]], dtype=float32)]\n"
     ]
    }
   ],
   "source": [
    "print(model.estimator_coeffs())"
   ]
  },
  {
   "cell_type": "code",
   "execution_count": null,
   "metadata": {},
   "outputs": [],
   "source": []
  }
 ],
 "metadata": {
  "anaconda-cloud": {},
  "kernelspec": {
   "display_name": "Python [conda env:DeePyMoD.new_dataset_API]",
   "language": "python",
   "name": "conda-env-DeePyMoD.new_dataset_API-py"
  },
  "language_info": {
   "codemirror_mode": {
    "name": "ipython",
    "version": 3
   },
   "file_extension": ".py",
   "mimetype": "text/x-python",
   "name": "python",
   "nbconvert_exporter": "python",
   "pygments_lexer": "ipython3",
   "version": "3.8.8"
  }
 },
 "nbformat": 4,
 "nbformat_minor": 4
}
